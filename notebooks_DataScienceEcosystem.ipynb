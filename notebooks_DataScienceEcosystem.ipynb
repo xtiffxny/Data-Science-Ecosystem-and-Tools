{
  "metadata": {
    "kernelspec": {
      "name": "python",
      "display_name": "Python (Pyodide)",
      "language": "python"
    },
    "language_info": {
      "codemirror_mode": {
        "name": "python",
        "version": 3
      },
      "file_extension": ".py",
      "mimetype": "text/x-python",
      "name": "python",
      "nbconvert_exporter": "python",
      "pygments_lexer": "ipython3",
      "version": "3.8"
    }
  },
  "nbformat_minor": 5,
  "nbformat": 4,
  "cells": [
    {
      "cell_type": "markdown",
      "source": "# Data Science Tools and Ecosystems",
      "metadata": {},
      "id": "6ddddb21-a30d-4231-ab2f-5f98edac932a"
    },
    {
      "cell_type": "markdown",
      "source": "This notebook contains a summary of Data Science Tools and Ecosystems",
      "metadata": {},
      "id": "0036a9cb-aa59-402d-acf7-8c17807d978a"
    },
    {
      "cell_type": "markdown",
      "source": " **Objectives** \n * To list popular languages used by data scientist\n * To list the common libraries used by Data Scientists\n * To list some of the common open-source tools",
      "metadata": {},
      "id": "39131a3d-7570-4d1d-b3b5-86189b570735"
    },
    {
      "cell_type": "markdown",
      "source": "Popular languages used by data scientist are:\n    \n* Python\n* R programming \n* Julia",
      "metadata": {},
      "id": "8b5022ee-0ae3-4c44-8586-4e7c79e7d082"
    },
    {
      "cell_type": "markdown",
      "source": "Some of the commonly used libraries by data scientists include\n* Numphy\n* Scikit-library\n* pytorch",
      "metadata": {},
      "id": "2810e1aa-07eb-4f88-809b-92fdda062085"
    },
    {
      "cell_type": "markdown",
      "source": "| Data Science Tools |\n|--------------------|\n| Jupyter |\n| Spyder  |\n| Rstudio |",
      "metadata": {},
      "id": "19ec016e-faba-4e90-a48a-386dcf8b0269"
    },
    {
      "cell_type": "markdown",
      "source": "### Below are a few examples of evaluating arithmetic expressions in python",
      "metadata": {},
      "id": "4a80bb99-1e90-4838-bd2a-e00ca4578a97"
    },
    {
      "cell_type": "markdown",
      "source": "<!-- Here is a simple arithmetic expression to multiply then add integers -->",
      "metadata": {},
      "id": "c8a855fb-9017-4ae0-98d7-1dd613361fa8"
    },
    {
      "cell_type": "code",
      "source": "(3*4)+5",
      "metadata": {
        "trusted": true
      },
      "execution_count": 2,
      "outputs": [
        {
          "execution_count": 2,
          "output_type": "execute_result",
          "data": {
            "text/plain": "17"
          },
          "metadata": {}
        }
      ],
      "id": "fdda3c57-c87a-4ec3-b3cd-de2327be9b4d"
    },
    {
      "cell_type": "markdown",
      "source": "<!-- the code below will convert 200 minutes to hours by dividing by 60 -->",
      "metadata": {},
      "id": "f9d027ae-cb85-4a9b-b49a-4e61df64f757"
    },
    {
      "cell_type": "code",
      "source": "(200/60)",
      "metadata": {
        "trusted": true
      },
      "execution_count": 3,
      "outputs": [
        {
          "execution_count": 3,
          "output_type": "execute_result",
          "data": {
            "text/plain": "3.3333333333333335"
          },
          "metadata": {}
        }
      ],
      "id": "3e5190ec-01f7-47ee-84bb-7997d3d83427"
    },
    {
      "cell_type": "markdown",
      "source": "## Author : Tiffany Jerono Kipchumba",
      "metadata": {},
      "id": "bd5e25aa-7e65-4852-b278-831b8acc7d5e"
    },
    {
      "cell_type": "code",
      "source": "",
      "metadata": {},
      "execution_count": null,
      "outputs": [],
      "id": "37b0b10d-bbe9-4689-8837-8e00fb5d87b3"
    }
  ]
}